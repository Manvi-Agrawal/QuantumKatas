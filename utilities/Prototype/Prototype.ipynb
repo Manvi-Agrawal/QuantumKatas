{
 "cells": [
  {
   "cell_type": "markdown",
   "metadata": {},
   "source": [
    "# Prototype Kata\n",
    "\n",
    "**Prototype** quantum kata is designed to test if kata magic is successfull for multiple simulators."
   ]
  },
  {
   "cell_type": "markdown",
   "metadata": {},
   "source": [
    "## Setup\n",
    "- Follow the instructions as mentioned in the Contribution guide to use the custom version.\n",
    "- Otherwise it would use the current katas package instead of the custom version"
   ]
  },
  {
   "cell_type": "code",
   "execution_count": null,
   "metadata": {},
   "outputs": [],
   "source": [
    "// %package Microsoft.Quantum.Katas::10.0.0"
   ]
  },
  {
   "cell_type": "code",
   "execution_count": null,
   "metadata": {},
   "outputs": [],
   "source": [
    "// %workspace reload"
   ]
  },
  {
   "cell_type": "markdown",
   "metadata": {},
   "source": [
    "## Quantum Simulator"
   ]
  },
  {
   "cell_type": "code",
   "execution_count": null,
   "metadata": {},
   "outputs": [],
   "source": [
    "%kata QuantumSimulatorCheck\n",
    "\n",
    "operation QsharpUnit() : Unit{\n",
    "\n",
    "}"
   ]
  },
  {
   "cell_type": "markdown",
   "metadata": {},
   "source": [
    "## Resources Estimator"
   ]
  },
  {
   "cell_type": "code",
   "execution_count": null,
   "metadata": {},
   "outputs": [],
   "source": [
    "%kata ResourcesEstimatorCheck\n",
    "\n",
    "operation QsharpUnit() : Unit{\n",
    "\n",
    "}"
   ]
  },
  {
   "cell_type": "markdown",
   "metadata": {},
   "source": [
    "## Toffoli Simulator"
   ]
  },
  {
   "cell_type": "code",
   "execution_count": null,
   "metadata": {},
   "outputs": [],
   "source": [
    "%kata ToffoliSimulatorCheck\n",
    "\n",
    "operation QsharpUnit() : Unit{\n",
    "\n",
    "}"
   ]
  },
  {
   "cell_type": "markdown",
   "metadata": {},
   "source": [
    "## Execution Target Check\n",
    "Checks if a test is sucessful on execution targets supported by QDK.\n",
    "These are\n",
    "- Quantum Simulator\n",
    "- Tofoli Simulator\n",
    "- Resources Estimator"
   ]
  },
  {
   "cell_type": "code",
   "execution_count": null,
   "metadata": {},
   "outputs": [],
   "source": [
    "%kata ExecutionTargetCheck\n",
    "\n",
    "operation QsharpUnit() : Unit{\n",
    "\n",
    "}"
   ]
  },
  {
   "cell_type": "markdown",
   "metadata": {},
   "source": [
    "## Multiple Simulator Check\n",
    "Checks if a test is sucessful on the following simulators\n",
    "- Quantum Simulator\n",
    "- Counter Simulator\n",
    "- Tofoli Simulator\n",
    "- Resources Estimator\n",
    "- QC Trace Simulator"
   ]
  },
  {
   "cell_type": "code",
   "execution_count": null,
   "metadata": {},
   "outputs": [],
   "source": [
    "%kata MultipleSimulatorCheck\n",
    "\n",
    "operation QsharpUnit() : Unit{\n",
    "\n",
    "}"
   ]
  },
  {
   "cell_type": "code",
   "execution_count": null,
   "metadata": {},
   "outputs": [],
   "source": []
  }
 ],
 "metadata": {
  "kernelspec": {
   "display_name": "Q#",
   "language": "qsharp",
   "name": "iqsharp"
  },
  "language_info": {
   "file_extension": ".qs",
   "mimetype": "text/x-qsharp",
   "name": "qsharp",
   "version": "0.14"
  }
 },
 "nbformat": 4,
 "nbformat_minor": 2
}
