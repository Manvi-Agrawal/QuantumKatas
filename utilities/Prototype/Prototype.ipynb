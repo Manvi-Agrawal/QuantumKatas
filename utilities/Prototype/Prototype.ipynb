{
 "cells": [
  {
   "cell_type": "markdown",
   "metadata": {},
   "source": [
    "# Prototype Kata\n",
    "\n",
    "**Prototype** quantum kata is designed to test if kata magic is successfull for multiple simulators."
   ]
  },
  {
   "cell_type": "markdown",
   "metadata": {},
   "source": [
    "## Setup\n",
    "- Follow the instructions as mentioned in the Contribution guide to use the custom version.\n",
    "- Otherwise it would use the current katas package instead of the custom version"
   ]
  },
  {
   "cell_type": "code",
   "execution_count": 1,
   "metadata": {
    "tags": [
     "invalid_code"
    ]
   },
   "outputs": [
    {
     "data": {
      "application/json": "{\"LastUpdated\":\"2021-05-27T15:42:38.1649587+05:30\",\"IsCompleted\":true,\"Description\":\"Adding package Microsoft.Quantum.Katas::8.0.9\",\"Subtask\":\"done\"}",
      "text/plain": [
       "Adding package Microsoft.Quantum.Katas::8.0.9: done!"
      ]
     },
     "metadata": {},
     "output_type": "display_data"
    },
    {
     "data": {
      "application/json": "[\"Microsoft.Quantum.Standard::0.16.2104138035\",\"Microsoft.Quantum.Standard.Visualization::0.16.2104138035\",\"Microsoft.Quantum.Xunit::0.16.2104138035\",\"Microsoft.NET.Test.Sdk::15.3.0\",\"xunit::2.3.1\",\"xunit.runner.visualstudio::2.3.1\",\"Microsoft.Quantum.Katas::8.0.9\"]",
      "text/html": [
       "<ul><li>Microsoft.Quantum.Standard::0.16.2104138035</li><li>Microsoft.Quantum.Standard.Visualization::0.16.2104138035</li><li>Microsoft.Quantum.Xunit::0.16.2104138035</li><li>Microsoft.NET.Test.Sdk::15.3.0</li><li>xunit::2.3.1</li><li>xunit.runner.visualstudio::2.3.1</li><li>Microsoft.Quantum.Katas::8.0.9</li></ul>"
      ],
      "text/plain": [
       "Microsoft.Quantum.Standard::0.16.2104138035, Microsoft.Quantum.Standard.Visualization::0.16.2104138035, Microsoft.Quantum.Xunit::0.16.2104138035, Microsoft.NET.Test.Sdk::15.3.0, xunit::2.3.1, xunit.runner.visualstudio::2.3.1, Microsoft.Quantum.Katas::8.0.9"
      ]
     },
     "execution_count": 1,
     "metadata": {},
     "output_type": "execute_result"
    }
   ],
   "source": [
    "// %package Microsoft.Quantum.Katas::8.0.9"
   ]
  },
  {
   "cell_type": "code",
   "execution_count": 2,
   "metadata": {
    "tags": [
     "invalid_code"
    ]
   },
   "outputs": [
    {
     "data": {
      "application/json": "{\"LastUpdated\":\"2021-05-27T15:42:48.1574546+05:30\",\"IsCompleted\":true,\"Description\":\"Reloading workspace\",\"Subtask\":\"done\"}",
      "text/plain": [
       "Reloading workspace: done!"
      ]
     },
     "metadata": {},
     "output_type": "display_data"
    },
    {
     "data": {
      "application/json": "[\"Quantum.Kata.Prototype.CounterSimulatorCheck\",\"Quantum.Kata.Prototype.FlipZerosToOnes\",\"Quantum.Kata.Prototype.FlipZerosToOnes_Reference\",\"Quantum.Kata.Prototype.FlipZeroToPlusNoRestriction\",\"Quantum.Kata.Prototype.FlipZeroToPlusNoRestriction_Reference\",\"Quantum.Kata.Prototype.FlipZeroToPlusRestriction\",\"Quantum.Kata.Prototype.FlipZeroToPlusRestriction_Reference\",\"Quantum.Kata.Prototype.MultipleSimulatorCheck\",\"Quantum.Kata.Prototype.QsharpUnit\",\"Quantum.Kata.Prototype.QsharpUnit_Reference\",\"Quantum.Kata.Prototype.QuantumSimulatorCheck\",\"Quantum.Kata.Prototype.ToffoliSimulatorCheck\"]",
      "text/html": [
       "<ul><li>Quantum.Kata.Prototype.CounterSimulatorCheck</li><li>Quantum.Kata.Prototype.FlipZerosToOnes</li><li>Quantum.Kata.Prototype.FlipZerosToOnes_Reference</li><li>Quantum.Kata.Prototype.FlipZeroToPlusNoRestriction</li><li>Quantum.Kata.Prototype.FlipZeroToPlusNoRestriction_Reference</li><li>Quantum.Kata.Prototype.FlipZeroToPlusRestriction</li><li>Quantum.Kata.Prototype.FlipZeroToPlusRestriction_Reference</li><li>Quantum.Kata.Prototype.MultipleSimulatorCheck</li><li>Quantum.Kata.Prototype.QsharpUnit</li><li>Quantum.Kata.Prototype.QsharpUnit_Reference</li><li>Quantum.Kata.Prototype.QuantumSimulatorCheck</li><li>Quantum.Kata.Prototype.ToffoliSimulatorCheck</li></ul>"
      ],
      "text/plain": [
       "Quantum.Kata.Prototype.CounterSimulatorCheck, Quantum.Kata.Prototype.FlipZerosToOnes, Quantum.Kata.Prototype.FlipZerosToOnes_Reference, Quantum.Kata.Prototype.FlipZeroToPlusNoRestriction, Quantum.Kata.Prototype.FlipZeroToPlusNoRestriction_Reference, Quantum.Kata.Prototype.FlipZeroToPlusRestriction, Quantum.Kata.Prototype.FlipZeroToPlusRestriction_Reference, Quantum.Kata.Prototype.MultipleSimulatorCheck, Quantum.Kata.Prototype.QsharpUnit, Quantum.Kata.Prototype.QsharpUnit_Reference, Quantum.Kata.Prototype.QuantumSimulatorCheck, Quantum.Kata.Prototype.ToffoliSimulatorCheck"
      ]
     },
     "execution_count": 2,
     "metadata": {},
     "output_type": "execute_result"
    }
   ],
   "source": [
    "// %workspace reload"
   ]
  },
  {
   "cell_type": "markdown",
   "metadata": {},
   "source": [
    "## Quantum Simulator"
   ]
  },
  {
   "cell_type": "code",
   "execution_count": 3,
   "metadata": {},
   "outputs": [
    {
     "name": "stdout",
     "output_type": "stream",
     "text": [
      "Test passed...\n",
      "Success on CounterSimulator!\n",
      "Test passed...\n",
      "Success on QuantumSimulator!\n"
     ]
    },
    {
     "data": {
      "application/json": "\"Success!\"",
      "text/plain": [
       "Success!"
      ]
     },
     "execution_count": 3,
     "metadata": {},
     "output_type": "execute_result"
    }
   ],
   "source": [
    "%kata QuantumSimulatorCheck\n",
    "\n",
    "operation FlipZeroToPlusNoRestriction(q: Qubit) : Unit{\n",
    "    H(q);\n",
    "    H(q);\n",
    "    H(q);\n",
    "}"
   ]
  },
  {
   "cell_type": "markdown",
   "metadata": {},
   "source": [
    "## Counter Simulator"
   ]
  },
  {
   "cell_type": "code",
   "execution_count": 4,
   "metadata": {},
   "outputs": [
    {
     "name": "stdout",
     "output_type": "stream",
     "text": [
      "Test passed...\n",
      "Success on CounterSimulator!\n"
     ]
    },
    {
     "data": {
      "application/json": "\"Success!\"",
      "text/plain": [
       "Success!"
      ]
     },
     "execution_count": 4,
     "metadata": {},
     "output_type": "execute_result"
    }
   ],
   "source": [
    "%kata CounterSimulatorCheck\n",
    "\n",
    "operation FlipZeroToPlusRestriction(q: Qubit) : Unit{\n",
    "    H(q);\n",
    "}"
   ]
  },
  {
   "cell_type": "markdown",
   "metadata": {},
   "source": [
    "## Toffoli Simulator"
   ]
  },
  {
   "cell_type": "code",
   "execution_count": 5,
   "metadata": {},
   "outputs": [
    {
     "name": "stdout",
     "output_type": "stream",
     "text": [
      "Test passed...\n",
      "Success on ToffoliSimulator!\n"
     ]
    },
    {
     "data": {
      "application/json": "\"Success!\"",
      "text/plain": [
       "Success!"
      ]
     },
     "execution_count": 5,
     "metadata": {},
     "output_type": "execute_result"
    }
   ],
   "source": [
    "%kata ToffoliSimulatorCheck\n",
    "\n",
    "operation FlipZerosToOnes(qs: Qubit[]): Unit{\n",
    "    ApplyToEach(X, qs);\n",
    "}"
   ]
  },
  {
   "cell_type": "markdown",
   "metadata": {},
   "source": [
    "## Multiple Simulator Check\n",
    "Checks if a test is sucessful on the following simulators\n",
    "- Quantum Simulator\n",
    "- Counter Simulator\n",
    "- Tofoli Simulator"
   ]
  },
  {
   "cell_type": "code",
   "execution_count": 6,
   "metadata": {},
   "outputs": [
    {
     "name": "stdout",
     "output_type": "stream",
     "text": [
      "Test passed...\n",
      "Success on CounterSimulator!\n",
      "Test passed...\n",
      "Success on ToffoliSimulator!\n",
      "Test passed...\n",
      "Success on QuantumSimulator!\n"
     ]
    },
    {
     "data": {
      "application/json": "\"Success!\"",
      "text/plain": [
       "Success!"
      ]
     },
     "execution_count": 6,
     "metadata": {},
     "output_type": "execute_result"
    }
   ],
   "source": [
    "%kata MultipleSimulatorCheck\n",
    "\n",
    "operation FlipZerosToOnes(qs: Qubit[]): Unit{\n",
    "    ApplyToEach(X, qs);\n",
    "}"
   ]
  },
  {
   "cell_type": "code",
   "execution_count": null,
   "metadata": {},
   "outputs": [],
   "source": []
  }
 ],
 "metadata": {
  "kernelspec": {
   "display_name": "Q#",
   "language": "qsharp",
   "name": "iqsharp"
  },
  "language_info": {
   "file_extension": ".qs",
   "mimetype": "text/x-qsharp",
   "name": "qsharp",
   "version": "0.14"
  }
 },
 "nbformat": 4,
 "nbformat_minor": 2
}
